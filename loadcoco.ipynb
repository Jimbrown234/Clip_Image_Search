{
 "cells": [
  {
   "cell_type": "code",
   "execution_count": 2,
   "metadata": {},
   "outputs": [],
   "source": [
    "import json"
   ]
  },
  {
   "cell_type": "code",
   "execution_count": 7,
   "metadata": {},
   "outputs": [],
   "source": [
    "f = open(r'D:\\git\\CLIP_prefix_caption\\data\\coco\\annotations\\train_caption.json')"
   ]
  },
  {
   "cell_type": "code",
   "execution_count": 8,
   "metadata": {},
   "outputs": [],
   "source": [
    "data = json.load(f)"
   ]
  },
  {
   "cell_type": "code",
   "execution_count": 6,
   "metadata": {},
   "outputs": [],
   "source": [
    "import os\n",
    "import skimage\n",
    "from io import BytesIO\n",
    "from PIL import Image"
   ]
  },
  {
   "cell_type": "code",
   "execution_count": 13,
   "metadata": {},
   "outputs": [],
   "source": [
    "limit = 5\n",
    "for i in range(len(data)):\n",
    "    if i == limit:\n",
    "        break\n",
    "    d = data[i]\n",
    "    img_id = d[\"image_id\"]\n",
    "    filename = f\"D:/git/CLIP_prefix_caption/data/coco/train2014/COCO_train2014_{int(img_id):012d}.jpg\"\n",
    "    if not os.path.isfile(filename):\n",
    "        filename = f\"D:/git/CLIP_prefix_caption/data/coco/val2014/COCO_val2014_{int(img_id):012d}.jpg\"\n",
    "    image = io.imread(filename)\n",
    "    # io.imshow(image)\n"
   ]
  },
  {
   "cell_type": "code",
   "execution_count": 9,
   "metadata": {},
   "outputs": [],
   "source": [
    "img_id = data[0]['image_id']\n",
    "filename = f\"D:/git/CLIP_prefix_caption/data/coco/train2014/COCO_train2014_{int(img_id):012d}.jpg\"\n",
    "# image = io.imread(filename)"
   ]
  },
  {
   "cell_type": "code",
   "execution_count": 18,
   "metadata": {},
   "outputs": [],
   "source": [
    "import pandas as pd"
   ]
  },
  {
   "cell_type": "code",
   "execution_count": 14,
   "metadata": {},
   "outputs": [],
   "source": [
    "data_dict = {'image_id':[],'image':[],'caption':[]}"
   ]
  },
  {
   "cell_type": "code",
   "execution_count": 15,
   "metadata": {},
   "outputs": [],
   "source": [
    "limit = 10"
   ]
  },
  {
   "cell_type": "code",
   "execution_count": 16,
   "metadata": {},
   "outputs": [],
   "source": [
    "for i in range(len(data)):\n",
    "    if i == limit:\n",
    "        break\n",
    "    d = data[i]\n",
    "    img_id = d[\"image_id\"]\n",
    "    filename = f\"D:/git/CLIP_prefix_caption/data/coco/train2014/COCO_train2014_{int(img_id):012d}.jpg\"\n",
    "    if not os.path.isfile(filename):\n",
    "        filename = f\"D:/git/CLIP_prefix_caption/data/coco/val2014/COCO_val2014_{int(img_id):012d}.jpg\"\n",
    "    image = Image.open((filename)).convert(\"RGB\")\n",
    "    data_dict['image_id'].append(img_id)\n",
    "    data_dict['image'].append(image)\n",
    "    data_dict['caption'].append(d['caption'])"
   ]
  },
  {
   "cell_type": "code",
   "execution_count": 19,
   "metadata": {},
   "outputs": [],
   "source": [
    "df = pd.DataFrame(data_dict)"
   ]
  },
  {
   "cell_type": "code",
   "execution_count": 20,
   "metadata": {},
   "outputs": [
    {
     "data": {
      "text/html": [
       "<div>\n",
       "<style scoped>\n",
       "    .dataframe tbody tr th:only-of-type {\n",
       "        vertical-align: middle;\n",
       "    }\n",
       "\n",
       "    .dataframe tbody tr th {\n",
       "        vertical-align: top;\n",
       "    }\n",
       "\n",
       "    .dataframe thead th {\n",
       "        text-align: right;\n",
       "    }\n",
       "</style>\n",
       "<table border=\"1\" class=\"dataframe\">\n",
       "  <thead>\n",
       "    <tr style=\"text-align: right;\">\n",
       "      <th></th>\n",
       "      <th>image_id</th>\n",
       "      <th>image</th>\n",
       "      <th>caption</th>\n",
       "    </tr>\n",
       "  </thead>\n",
       "  <tbody>\n",
       "    <tr>\n",
       "      <th>0</th>\n",
       "      <td>318556</td>\n",
       "      <td>&lt;PIL.Image.Image image mode=RGB size=480x640 a...</td>\n",
       "      <td>A very clean and well decorated empty bathroom</td>\n",
       "    </tr>\n",
       "    <tr>\n",
       "      <th>1</th>\n",
       "      <td>116100</td>\n",
       "      <td>&lt;PIL.Image.Image image mode=RGB size=640x182 a...</td>\n",
       "      <td>A panoramic view of a kitchen and all of its a...</td>\n",
       "    </tr>\n",
       "    <tr>\n",
       "      <th>2</th>\n",
       "      <td>318556</td>\n",
       "      <td>&lt;PIL.Image.Image image mode=RGB size=480x640 a...</td>\n",
       "      <td>A blue and white bathroom with butterfly theme...</td>\n",
       "    </tr>\n",
       "    <tr>\n",
       "      <th>3</th>\n",
       "      <td>116100</td>\n",
       "      <td>&lt;PIL.Image.Image image mode=RGB size=640x182 a...</td>\n",
       "      <td>A panoramic photo of a kitchen and dining room</td>\n",
       "    </tr>\n",
       "    <tr>\n",
       "      <th>4</th>\n",
       "      <td>379340</td>\n",
       "      <td>&lt;PIL.Image.Image image mode=RGB size=480x640 a...</td>\n",
       "      <td>A graffiti-ed stop sign across the street from...</td>\n",
       "    </tr>\n",
       "  </tbody>\n",
       "</table>\n",
       "</div>"
      ],
      "text/plain": [
       "  image_id                                              image  \\\n",
       "0   318556  <PIL.Image.Image image mode=RGB size=480x640 a...   \n",
       "1   116100  <PIL.Image.Image image mode=RGB size=640x182 a...   \n",
       "2   318556  <PIL.Image.Image image mode=RGB size=480x640 a...   \n",
       "3   116100  <PIL.Image.Image image mode=RGB size=640x182 a...   \n",
       "4   379340  <PIL.Image.Image image mode=RGB size=480x640 a...   \n",
       "\n",
       "                                             caption  \n",
       "0     A very clean and well decorated empty bathroom  \n",
       "1  A panoramic view of a kitchen and all of its a...  \n",
       "2  A blue and white bathroom with butterfly theme...  \n",
       "3     A panoramic photo of a kitchen and dining room  \n",
       "4  A graffiti-ed stop sign across the street from...  "
      ]
     },
     "execution_count": 20,
     "metadata": {},
     "output_type": "execute_result"
    }
   ],
   "source": [
    "df.head()"
   ]
  },
  {
   "cell_type": "code",
   "execution_count": 1,
   "metadata": {},
   "outputs": [],
   "source": [
    "from PIL import Image\n",
    "from io import BytesIO"
   ]
  },
  {
   "cell_type": "code",
   "execution_count": 19,
   "metadata": {},
   "outputs": [],
   "source": [
    "img1 = Image.open(filename)"
   ]
  },
  {
   "cell_type": "code",
   "execution_count": 11,
   "metadata": {},
   "outputs": [],
   "source": [
    "img2 = image = Image.open((filename)).convert(\"RGB\")"
   ]
  },
  {
   "cell_type": "code",
   "execution_count": 13,
   "metadata": {},
   "outputs": [
    {
     "data": {
      "text/plain": [
       "PIL.Image.Image"
      ]
     },
     "execution_count": 13,
     "metadata": {},
     "output_type": "execute_result"
    }
   ],
   "source": []
  }
 ],
 "metadata": {
  "kernelspec": {
   "display_name": "Python 3",
   "language": "python",
   "name": "python3"
  },
  "language_info": {
   "codemirror_mode": {
    "name": "ipython",
    "version": 3
   },
   "file_extension": ".py",
   "mimetype": "text/x-python",
   "name": "python",
   "nbconvert_exporter": "python",
   "pygments_lexer": "ipython3",
   "version": "3.8.2"
  },
  "orig_nbformat": 4
 },
 "nbformat": 4,
 "nbformat_minor": 2
}
